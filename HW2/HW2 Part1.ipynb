{
 "cells": [
  {
   "cell_type": "code",
   "execution_count": 1,
   "metadata": {},
   "outputs": [],
   "source": [
    "# This Python 3 environment comes with many helpful analytics libraries installed\n",
    "# It is defined by the kaggle/python docker image: https://github.com/kaggle/docker-python\n",
    "# For example, here's several helpful packages to load in \n",
    "\n",
    "import numpy as np # linear algebra\n",
    "import scipy as sp \n",
    "import pandas as pd # data processing, CSV file I/O (e.g. pd.read_csv)\n",
    "\n",
    "# Visualization\n",
    "import matplotlib.pyplot as plt\n",
    "import seaborn as sns\n",
    "\n",
    "# NLP tools\n",
    "import nltk"
   ]
  },
  {
   "cell_type": "code",
   "execution_count": 2,
   "metadata": {},
   "outputs": [],
   "source": [
    "# The data path of input file\n",
    "data_path = \"Reviews.csv\"\n",
    "\n",
    "# Read csv file to pandas dataframe\n",
    "pd_data = pd.read_csv(data_path)\n",
    "\n",
    "# For this homework, please use the first 10000 rows\n",
    "pd_data = pd_data[:10000]"
   ]
  },
  {
   "cell_type": "markdown",
   "metadata": {},
   "source": [
    "## 1. Top-10 Reviewer"
   ]
  },
  {
   "cell_type": "code",
   "execution_count": 3,
   "metadata": {},
   "outputs": [
    {
     "data": {
      "text/html": [
       "<div>\n",
       "<style scoped>\n",
       "    .dataframe tbody tr th:only-of-type {\n",
       "        vertical-align: middle;\n",
       "    }\n",
       "\n",
       "    .dataframe tbody tr th {\n",
       "        vertical-align: top;\n",
       "    }\n",
       "\n",
       "    .dataframe thead th {\n",
       "        text-align: right;\n",
       "    }\n",
       "</style>\n",
       "<table border=\"1\" class=\"dataframe\">\n",
       "  <thead>\n",
       "    <tr style=\"text-align: right;\">\n",
       "      <th></th>\n",
       "      <th></th>\n",
       "      <th>Score Count</th>\n",
       "      <th>Score mean</th>\n",
       "    </tr>\n",
       "    <tr>\n",
       "      <th>UserId</th>\n",
       "      <th>ProfileName</th>\n",
       "      <th></th>\n",
       "      <th></th>\n",
       "    </tr>\n",
       "  </thead>\n",
       "  <tbody>\n",
       "    <tr>\n",
       "      <th>A1Z54EM24Y40LL</th>\n",
       "      <th>c2</th>\n",
       "      <td>17</td>\n",
       "      <td>3.882353</td>\n",
       "    </tr>\n",
       "    <tr>\n",
       "      <th>A2SZLNSI5KOQJT</th>\n",
       "      <th>Carrie, \"Formerly &amp;#34;Sister Carrie&amp;#34;\"</th>\n",
       "      <td>10</td>\n",
       "      <td>3.800000</td>\n",
       "    </tr>\n",
       "    <tr>\n",
       "      <th>A35R32TA60XD57</th>\n",
       "      <th>M. Torma</th>\n",
       "      <td>9</td>\n",
       "      <td>4.111111</td>\n",
       "    </tr>\n",
       "    <tr>\n",
       "      <th>A281NPSIMI1C2R</th>\n",
       "      <th>Rebecca of Amazon \"The Rebecca Review\"</th>\n",
       "      <td>8</td>\n",
       "      <td>5.000000</td>\n",
       "    </tr>\n",
       "    <tr>\n",
       "      <th>A3OXHLG6DIBRW8</th>\n",
       "      <th>C. F. Hill \"CFH\"</th>\n",
       "      <td>7</td>\n",
       "      <td>4.428571</td>\n",
       "    </tr>\n",
       "    <tr>\n",
       "      <th>A3NHUQ33CFH3VM</th>\n",
       "      <th>Citizen John</th>\n",
       "      <td>7</td>\n",
       "      <td>3.142857</td>\n",
       "    </tr>\n",
       "    <tr>\n",
       "      <th>A3PJZ8TU8FDQ1K</th>\n",
       "      <th>Jared Castle</th>\n",
       "      <td>7</td>\n",
       "      <td>4.714286</td>\n",
       "    </tr>\n",
       "    <tr>\n",
       "      <th>AQ6SHOW0VMZGF</th>\n",
       "      <th>K. Padgett \"familyof5\"</th>\n",
       "      <td>6</td>\n",
       "      <td>2.666667</td>\n",
       "    </tr>\n",
       "    <tr>\n",
       "      <th>A26NFIQ7KWI8Y7</th>\n",
       "      <th>kt rose</th>\n",
       "      <td>6</td>\n",
       "      <td>2.666667</td>\n",
       "    </tr>\n",
       "    <tr>\n",
       "      <th>A10H24TDLK2VDP</th>\n",
       "      <th>William Jens Jensen</th>\n",
       "      <td>6</td>\n",
       "      <td>3.000000</td>\n",
       "    </tr>\n",
       "  </tbody>\n",
       "</table>\n",
       "</div>"
      ],
      "text/plain": [
       "                                                           Score Count  \\\n",
       "UserId         ProfileName                                               \n",
       "A1Z54EM24Y40LL c2                                                   17   \n",
       "A2SZLNSI5KOQJT Carrie, \"Formerly &#34;Sister Carrie&#34;\"           10   \n",
       "A35R32TA60XD57 M. Torma                                              9   \n",
       "A281NPSIMI1C2R Rebecca of Amazon \"The Rebecca Review\"                8   \n",
       "A3OXHLG6DIBRW8 C. F. Hill \"CFH\"                                      7   \n",
       "A3NHUQ33CFH3VM Citizen John                                          7   \n",
       "A3PJZ8TU8FDQ1K Jared Castle                                          7   \n",
       "AQ6SHOW0VMZGF  K. Padgett \"familyof5\"                                6   \n",
       "A26NFIQ7KWI8Y7 kt rose                                               6   \n",
       "A10H24TDLK2VDP William Jens Jensen                                   6   \n",
       "\n",
       "                                                           Score mean  \n",
       "UserId         ProfileName                                             \n",
       "A1Z54EM24Y40LL c2                                            3.882353  \n",
       "A2SZLNSI5KOQJT Carrie, \"Formerly &#34;Sister Carrie&#34;\"    3.800000  \n",
       "A35R32TA60XD57 M. Torma                                      4.111111  \n",
       "A281NPSIMI1C2R Rebecca of Amazon \"The Rebecca Review\"        5.000000  \n",
       "A3OXHLG6DIBRW8 C. F. Hill \"CFH\"                              4.428571  \n",
       "A3NHUQ33CFH3VM Citizen John                                  3.142857  \n",
       "A3PJZ8TU8FDQ1K Jared Castle                                  4.714286  \n",
       "AQ6SHOW0VMZGF  K. Padgett \"familyof5\"                        2.666667  \n",
       "A26NFIQ7KWI8Y7 kt rose                                       2.666667  \n",
       "A10H24TDLK2VDP William Jens Jensen                           3.000000  "
      ]
     },
     "execution_count": 3,
     "metadata": {},
     "output_type": "execute_result"
    }
   ],
   "source": [
    "# 建立一個一維陣列\n",
    "arr = list([1]*len(pd_data))\n",
    "\n",
    "# concat() : https://morvanzhou.github.io/tutorials/data-manipulation/np-pd/3-6-pd-concat/\n",
    "add_data = pd.DataFrame({\"Score Count\": arr})\n",
    "add_data = pd.concat([pd_data, add_data], axis = 1)\n",
    "\n",
    "# groupby() 可以將資料依照自己要的 column 分組\n",
    "# groupby() : https://ithelp.ithome.com.tw/articles/10194027\n",
    "\n",
    "# Sort by number of reviews (hint : \"ProfileName\", \"UserId\")\n",
    "test = add_data.groupby([\"UserId\", \"ProfileName\"]).sum()\n",
    "ans_df = test.sort_values(by = [\"Score Count\"], ascending = False)[:10]\n",
    "\n",
    "# 計算 Average score\n",
    "ans_df[\"Score mean\"] = ans_df[\"Score\"] / ans_df[\"Score Count\"]\n",
    "\n",
    "# 去除一些不需要的 column\n",
    "ans_df = ans_df.drop(columns = [\"HelpfulnessNumerator\", \"HelpfulnessDenominator\", \"Id\", \"Time\", \"Score\"])\n",
    "ans_df"
   ]
  },
  {
   "cell_type": "markdown",
   "metadata": {},
   "source": [
    "## 2. Plot score distribution for the user with the most number of reviews"
   ]
  },
  {
   "cell_type": "code",
   "execution_count": 4,
   "metadata": {},
   "outputs": [
    {
     "data": {
      "image/png": "[encoded data removed]",
      "text/plain": [
       "<Figure size 432x288 with 1 Axes>"
      ]
     },
     "metadata": {
      "needs_background": "light"
     },
     "output_type": "display_data"
    }
   ],
   "source": [
    "# get the most reviewer's rows\n",
    "most_reviewer = ans_df.index[0][0]\n",
    "\n",
    "# 把 most reviewer 的資料另外獨力出來\n",
    "most_reviewer_df = pd_data[pd_data[\"UserId\"] == most_reviewer]\n",
    "\n",
    "# get the score set and totally different label\n",
    "counts = list(pd.value_counts(most_reviewer_df.Score))\n",
    "score = list(pd.value_counts(most_reviewer_df.Score).keys())\n",
    "\n",
    "# sort value for plotting with order colors\n",
    "most_df = pd.DataFrame({\"counts\": counts, \"score\": score})\n",
    "most_df = most_df.sort_values(by = [\"score\"], ascending = True)\n",
    "\n",
    "# plot\n",
    "plt.bar(most_df.score, most_df.counts, color = [\"blue\", \"orange\", \"green\", \"red\", \"purple\"])\n",
    "plt.show()"
   ]
  },
  {
   "cell_type": "markdown",
   "metadata": {},
   "source": [
    "## 3. Plot pandas Series DataFrame (Time->Date)"
   ]
  },
  {
   "cell_type": "code",
   "execution_count": 5,
   "metadata": {},
   "outputs": [
    {
     "data": {
      "image/png": "[encoded data removed]",
      "text/plain": [
       "<Figure size 432x288 with 1 Axes>"
      ]
     },
     "metadata": {
      "needs_background": "light"
     },
     "output_type": "display_data"
    }
   ],
   "source": [
    "from datetime import datetime\n",
    "\n",
    "# Because time format is UNIX format, we convert it by using datetime package\n",
    "\n",
    "# extract only year information\n",
    "year_df = pd.to_datetime(pd_data[\"Time\"], unit = 's').dt.year\n",
    "\n",
    "# get year set and totally different year label\n",
    "year_count = list(year_df.value_counts())\n",
    "years = list(year_df.value_counts().keys())\n",
    "\n",
    "# sort value for plotting with order colors\n",
    "year_data = pd.DataFrame({\"x\": years, \"y\": year_count})\n",
    "year_data = year_data.sort_values(by = [\"x\"])\n",
    "\n",
    "plt.bar(year_data.x, year_data.y)\n",
    "plt.title(\"Review Count by Year\")\n",
    "plt.xlabel(\"Review Year\")\n",
    "plt.ylabel(\"Review Count\")\n",
    "plt.show()"
   ]
  },
  {
   "cell_type": "markdown",
   "metadata": {},
   "source": [
    "## 4. Plot HeatMap using seaborn"
   ]
  },
  {
   "cell_type": "code",
   "execution_count": 6,
   "metadata": {},
   "outputs": [
    {
     "data": {
      "text/plain": [
       "<matplotlib.axes._subplots.AxesSubplot at 0x20e8f758a90>"
      ]
     },
     "execution_count": 6,
     "metadata": {},
     "output_type": "execute_result"
    },
    {
     "data": {
      "image/png": "[encoded data removed]",
      "text/plain": [
       "<Figure size 432x288 with 2 Axes>"
      ]
     },
     "metadata": {},
     "output_type": "display_data"
    }
   ],
   "source": [
    "# extract assigned columns to do correlation computing\n",
    "test = pd_data[[\"Id\", \"HelpfulnessNumerator\", \"HelpfulnessDenominator\", \"Score\", \"Time\"]]\n",
    "\n",
    "sns.set()\n",
    "\n",
    "# test.corr() -> do correlations with all other columns\n",
    "sns.heatmap(test.corr(), annot = True)"
   ]
  },
  {
   "cell_type": "markdown",
   "metadata": {},
   "source": [
    "## 5. Helpful percent"
   ]
  },
  {
   "cell_type": "code",
   "execution_count": 7,
   "metadata": {},
   "outputs": [
    {
     "data": {
      "image/png": "[encoded data removed]",
      "text/plain": [
       "<Figure size 432x288 with 1 Axes>"
      ]
     },
     "metadata": {},
     "output_type": "display_data"
    }
   ],
   "source": [
    "# filt out some cases with numerator > denominator\n",
    "test = pd_data[pd_data[\"HelpfulnessNumerator\"] <= pd_data[\"HelpfulnessDenominator\"]]\n",
    "\n",
    "# division computing\n",
    "test = pd_data[\"HelpfulnessNumerator\"] / pd_data[\"HelpfulnessDenominator\"]\n",
    "\n",
    "# fill NAN with -1(for those be divided with 0)\n",
    "test = test.fillna(-1)\n",
    "\n",
    "# draw histogram\n",
    "# tolist() 將數組或者矩陣轉換成列表\n",
    "plt.hist(test.tolist())\n",
    "plt.show()"
   ]
  }
 ],
 "metadata": {
  "kernelspec": {
   "display_name": "Python 3",
   "language": "python",
   "name": "python3"
  },
  "language_info": {
   "codemirror_mode": {
    "name": "ipython",
    "version": 3
   },
   "file_extension": ".py",
   "mimetype": "text/x-python",
   "name": "python",
   "nbconvert_exporter": "python",
   "pygments_lexer": "ipython3",
   "version": "3.7.3"
  }
 },
 "nbformat": 4,
 "nbformat_minor": 2
}
